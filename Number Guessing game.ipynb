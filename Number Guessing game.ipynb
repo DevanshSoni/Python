{
 "cells": [
  {
   "cell_type": "code",
   "execution_count": 4,
   "metadata": {},
   "outputs": [
    {
     "name": "stdout",
     "output_type": "stream",
     "text": [
      "Hello World Times 0\n",
      "Hello World Times 1\n",
      "Hello World Times 2\n",
      "Hello World Times 3\n",
      "Hello World Times 4\n",
      "Hello World Times 5\n",
      "Hello World Times 6\n",
      "Hello World Times 7\n",
      "Hello World Times 8\n",
      "Hello World Times 9\n",
      "Hello World Times 10\n"
     ]
    }
   ],
   "source": [
    "c=0\n",
    "while(c<=10):\n",
    "    print(f\"Hello World Times {c}\")\n",
    "    c+=1"
   ]
  },
  {
   "cell_type": "code",
   "execution_count": 2,
   "metadata": {},
   "outputs": [
    {
     "name": "stdout",
     "output_type": "stream",
     "text": [
      "Hello World Times 0\n",
      "Hello World Times 1\n",
      "Hello World Times 2\n",
      "Hello World Times 3\n",
      "Hello World Times 4\n",
      "Hello World Times 5\n",
      "Hello World Times 6\n",
      "Hello World Times 7\n",
      "Hello World Times 8\n",
      "Hello World Times 9\n"
     ]
    }
   ],
   "source": [
    "c=0\n",
    "while(c<10):\n",
    "    print(\"Hello World Times {}\".format(c))\n",
    "    c+=1"
   ]
  },
  {
   "cell_type": "code",
   "execution_count": 3,
   "metadata": {},
   "outputs": [
    {
     "name": "stdout",
     "output_type": "stream",
     "text": [
      "Hello World Times 0\n",
      "Hello World Times 1\n",
      "Hello World Times 2\n",
      "Hello World Times 3\n",
      "Hello World Times 4\n",
      "Hello World Times 5\n",
      "Hello World Times 6\n",
      "Hello World Times 7\n",
      "Hello World Times 8\n",
      "Hello World Times 9\n"
     ]
    }
   ],
   "source": [
    "c=0\n",
    "while(c<10):\n",
    "    print(f\"Hello World Times {c}\")\n",
    "    c+=1"
   ]
  },
  {
   "cell_type": "code",
   "execution_count": 4,
   "metadata": {},
   "outputs": [],
   "source": [
    "#Putting else with the while loop"
   ]
  },
  {
   "cell_type": "code",
   "execution_count": 5,
   "metadata": {},
   "outputs": [
    {
     "name": "stdout",
     "output_type": "stream",
     "text": [
      "Hello World Times 1\n",
      "Hello World Times 2\n",
      "Hello World Times 3\n",
      "Hello World Times 4\n",
      "Hello World Times 5\n",
      "We are outside the loop\n"
     ]
    }
   ],
   "source": [
    "c=1\n",
    "while(c<=5):\n",
    "    print(f\"Hello World Times {c}\")\n",
    "    c+=1\n",
    "else:\n",
    "    print(\"We are outside the loop\")"
   ]
  },
  {
   "cell_type": "code",
   "execution_count": 7,
   "metadata": {},
   "outputs": [
    {
     "name": "stdout",
     "output_type": "stream",
     "text": [
      "Hello World Times 1\n",
      "Hello World Times 2\n",
      "Hello World Times 3\n",
      "Hello World Times 4\n",
      "Hello World Times 5\n"
     ]
    }
   ],
   "source": [
    "c=1\n",
    "while(c<=10):\n",
    "    print(f\"Hello World Times {c}\")\n",
    "    if(c==5):\n",
    "        break\n",
    "    c+=1\n",
    "else:\n",
    "    print(\"Tera kya hoga kaliya\")"
   ]
  },
  {
   "cell_type": "code",
   "execution_count": 2,
   "metadata": {
    "scrolled": true
   },
   "outputs": [
    {
     "name": "stdout",
     "output_type": "stream",
     "text": [
      "Enter Number to get it's table 5\n",
      "         5    *    0       =   0\n",
      "         5    *    1       =   5\n",
      "         5    *    2       =   10\n",
      "         5    *    3       =   15\n",
      "         5    *    4       =   20\n",
      "         5    *    5       =   25\n",
      "         5    *    6       =   30\n",
      "         5    *    7       =   35\n",
      "         5    *    8       =   40\n",
      "         5    *    9       =   45\n",
      "         5    *    10      =   50\n",
      "This is done\n"
     ]
    }
   ],
   "source": [
    "c=0\n",
    "b=int(input(\"Enter Number to get it's table \"))\n",
    "while(c<=10):\n",
    "    print(f\"{b:>10}    *    {c:<6}  =   {c*b}\")\n",
    "    c=c+1\n",
    "else:\n",
    "    print(\"This is done\")"
   ]
  },
  {
   "cell_type": "markdown",
   "metadata": {},
   "source": [
    "## Guessing Game"
   ]
  },
  {
   "cell_type": "code",
   "execution_count": 3,
   "metadata": {},
   "outputs": [],
   "source": [
    "from random import randint"
   ]
  },
  {
   "cell_type": "code",
   "execution_count": 16,
   "metadata": {},
   "outputs": [
    {
     "name": "stdout",
     "output_type": "stream",
     "text": [
      "Guess Number Obtained by the computer between 1-50 you have 5 Chances\n",
      "Guess Number33\n",
      "Guess is High\n",
      "Guess Number32\n",
      "Guess is High\n",
      "Guess Number30\n",
      "Guess is High\n",
      "Guess Number12\n",
      "Guess is High\n",
      "Guess Number4\n",
      "Guess is low\n",
      "Right number was 5 you failed to guess the right number\n"
     ]
    }
   ],
   "source": [
    "a,b=0,1\n",
    "a=randint(1,50)\n",
    "print(\"Guess Number Obtained by the computer between 1-50 you have 5 Chances\")\n",
    "while(b<=5):\n",
    "    guess=int(input(\"Guess Number\"))\n",
    "    if(guess>a):\n",
    "        print(\"Guess is High\")\n",
    "        b+=1\n",
    "    elif(guess<a):\n",
    "        print(\"Guess is low\")\n",
    "        b+=1\n",
    "    elif(guess==a):\n",
    "        print(f\"You have won the game and you have used {b} chances\")\n",
    "        break\n",
    "    elif(guess>1 and guess >50):\n",
    "        print(\"Guess Number between 1-50\")\n",
    "else:\n",
    "    print(f\"Right number was {a} you failed to guess the right number\")"
   ]
  },
  {
   "cell_type": "code",
   "execution_count": 12,
   "metadata": {},
   "outputs": [
    {
     "name": "stdout",
     "output_type": "stream",
     "text": [
      "12\n"
     ]
    }
   ],
   "source": []
  },
  {
   "cell_type": "code",
   "execution_count": null,
   "metadata": {},
   "outputs": [],
   "source": []
  }
 ],
 "metadata": {
  "kernelspec": {
   "display_name": "Python 3",
   "language": "python",
   "name": "python3"
  },
  "language_info": {
   "codemirror_mode": {
    "name": "ipython",
    "version": 3
   },
   "file_extension": ".py",
   "mimetype": "text/x-python",
   "name": "python",
   "nbconvert_exporter": "python",
   "pygments_lexer": "ipython3",
   "version": "3.7.3"
  }
 },
 "nbformat": 4,
 "nbformat_minor": 2
}
