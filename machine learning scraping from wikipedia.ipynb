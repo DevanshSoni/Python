{
 "cells": [
  {
   "cell_type": "code",
   "execution_count": 10,
   "metadata": {},
   "outputs": [
    {
     "name": "stdout",
     "output_type": "stream",
     "text": [
      "Machine learning\n",
      "Overview of Machine Learning\n",
      "Machine learning tasks\n",
      "History and relationships to other fields\n",
      "Relation to data mining\n",
      "Relation to optimization\n",
      "Relation to statistics\n",
      " Theory\n",
      "Approaches\n",
      "Types of learning algorithms\n",
      "Supervised and semi-supervised learning\n",
      "Unsupervised learning\n",
      "Reinforcement learning\n",
      "Processes and techniques\n",
      "Feature learning\n",
      "Sparse dictionary learning\n",
      "Anomaly detection\n",
      "Decision trees\n",
      "Association rules\n",
      "Models\n",
      "Artificial neural networks\n",
      "Support vector machines\n",
      "Bayesian networks\n",
      "Genetic algorithms\n",
      "Applications\n",
      "Limitations\n",
      "Bias\n",
      "Model assessments\n",
      "Ethics\n",
      "Software\n",
      "Free and open-source software\n",
      "Proprietary software with free and open-source editions\n",
      "Proprietary software\n",
      "Journals\n",
      "Conferences\n",
      "See also\n",
      "References\n",
      "Further reading\n",
      "External links\n"
     ]
    }
   ],
   "source": [
    "from bs4 import BeautifulSoup\n",
    "from urllib.request import urlopen\n",
    "req=urlopen(\"https://en.wikipedia.org/wiki/Machine_learning\")\n",
    "type(req)\n",
    "soup=BeautifulSoup(req,\"html5lib\")\n",
    "type(soup)\n",
    "sub=soup.select(\".mw-headline\")\n",
    "head=soup.select(\".firstHeading\")\n",
    "for i in head:\n",
    "    print(i.get_text())\n",
    "for i in sub:\n",
    "    print(i.get_text())"
   ]
  },
  {
   "cell_type": "code",
   "execution_count": null,
   "metadata": {},
   "outputs": [],
   "source": []
  }
 ],
 "metadata": {
  "kernelspec": {
   "display_name": "Python 3",
   "language": "python",
   "name": "python3"
  },
  "language_info": {
   "codemirror_mode": {
    "name": "ipython",
    "version": 3
   },
   "file_extension": ".py",
   "mimetype": "text/x-python",
   "name": "python",
   "nbconvert_exporter": "python",
   "pygments_lexer": "ipython3",
   "version": "3.6.5"
  }
 },
 "nbformat": 4,
 "nbformat_minor": 2
}
